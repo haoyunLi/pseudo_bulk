{
 "cells": [
  {
   "cell_type": "code",
   "execution_count": 1,
   "metadata": {},
   "outputs": [
    {
     "name": "stdout",
     "output_type": "stream",
     "text": [
      "Regular pseudobulk mean for donor 1_1 : 27.420555\n",
      "Weighted pseudobulk mean for donor 1_1 : 27.420551\n",
      "Max difference: 373847.66\n"
     ]
    }
   ],
   "source": [
    "\n",
    "import scanpy as sc\n",
    "import numpy as np\n",
    "\n",
    "# load data\n",
    "pb = sc.read_h5ad('data/pseudobulk_adata.h5ad')\n",
    "wpb = sc.read_h5ad('data/weighted_pseudobulk_adata.h5ad')\n",
    "\n",
    "# set donor 1\n",
    "donor = '1_1'\n",
    "\n",
    "# extract data for donor 1\n",
    "pb_donor = np.array(pb[pb.obs['donor_id'] == donor].X)\n",
    "wpb_donor = np.array(wpb[wpb.obs['donor_id'] == donor].X)\n",
    "\n",
    "# calculate the mean\n",
    "print('Regular pseudobulk mean for donor', donor, ':', np.mean(pb_donor))\n",
    "print('Weighted pseudobulk mean for donor', donor, ':', np.mean(wpb_donor))\n",
    "\n",
    "# calculate the max differewnce\n",
    "print('Max difference:', np.max(np.abs(pb_donor - wpb_donor)))\n"
   ]
  }
 ],
 "metadata": {
  "kernelspec": {
   "display_name": "Python 3",
   "language": "python",
   "name": "python3"
  },
  "language_info": {
   "codemirror_mode": {
    "name": "ipython",
    "version": 3
   },
   "file_extension": ".py",
   "mimetype": "text/x-python",
   "name": "python",
   "nbconvert_exporter": "python",
   "pygments_lexer": "ipython3",
   "version": "3.12.1"
  }
 },
 "nbformat": 4,
 "nbformat_minor": 2
}
